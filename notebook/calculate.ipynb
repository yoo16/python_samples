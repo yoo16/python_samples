{
 "cells": [
  {
   "cell_type": "code",
   "execution_count": 1,
   "metadata": {},
   "outputs": [
    {
     "name": "stdout",
     "output_type": "stream",
     "text": [
      "3\n"
     ]
    }
   ],
   "source": [
    "answer = 1 + 2\n",
    "print(answer)"
   ]
  },
  {
   "cell_type": "code",
   "execution_count": 2,
   "metadata": {},
   "outputs": [
    {
     "name": "stdout",
     "output_type": "stream",
     "text": [
      "6\n"
     ]
    }
   ],
   "source": [
    "answer = answer + 3\n",
    "print(answer)"
   ]
  },
  {
   "cell_type": "code",
   "execution_count": 7,
   "metadata": {},
   "outputs": [
    {
     "name": "stdout",
     "output_type": "stream",
     "text": [
      "10.0\n"
     ]
    }
   ],
   "source": [
    "answer = 1 + 2\n",
    "answer = answer + 3\n",
    "answer = answer - 2\n",
    "answer = answer * 5\n",
    "answer = answer / 2\n",
    "print(answer)"
   ]
  },
  {
   "cell_type": "code",
   "execution_count": 8,
   "metadata": {},
   "outputs": [
    {
     "name": "stdout",
     "output_type": "stream",
     "text": [
      "1.0\n"
     ]
    }
   ],
   "source": [
    "mod = answer % 3\n",
    "print(mod)"
   ]
  },
  {
   "cell_type": "code",
   "execution_count": 10,
   "metadata": {},
   "outputs": [
    {
     "name": "stdout",
     "output_type": "stream",
     "text": [
      "10.0pt\n"
     ]
    }
   ],
   "source": [
    "price = 200\n",
    "pointRate = 0.05\n",
    "point = price * pointRate\n",
    "\n",
    "message = str(point) + \"pt\"\n",
    "print(message)"
   ]
  },
  {
   "cell_type": "code",
   "execution_count": 12,
   "metadata": {},
   "outputs": [
    {
     "name": "stdout",
     "output_type": "stream",
     "text": [
      "1\n",
      "0\n"
     ]
    }
   ],
   "source": [
    "amount = 0\n",
    "\n",
    "# amount が１増加\n",
    "amount += 1\n",
    "print(amount)\n",
    "\n",
    "# amount が１減少\n",
    "amount -= 1\n",
    "print(amount)"
   ]
  },
  {
   "cell_type": "code",
   "execution_count": 13,
   "metadata": {},
   "outputs": [
    {
     "name": "stdout",
     "output_type": "stream",
     "text": [
      "300\n"
     ]
    }
   ],
   "source": [
    "amount = 0\n",
    "\n",
    "price = 110\n",
    "amount += 3\n",
    "\n",
    "price -= 10\n",
    "price *= amount\n",
    "print(price)"
   ]
  },
  {
   "cell_type": "code",
   "execution_count": 14,
   "metadata": {},
   "outputs": [
    {
     "name": "stdout",
     "output_type": "stream",
     "text": [
      "コーヒーの価格は300円です。購入しますか？\n"
     ]
    }
   ],
   "source": [
    "itemName = \"コーヒー\"\n",
    "message = itemName + \"の価格は\" + str(price) + \"円です。\"\n",
    "message += \"購入しますか？\"\n",
    "print(message)"
   ]
  },
  {
   "cell_type": "code",
   "execution_count": 17,
   "metadata": {},
   "outputs": [
    {
     "name": "stdout",
     "output_type": "stream",
     "text": [
      "10715086071862673209484250490600018105614048117055336074437503883703510511249361224931983788156958581275946729175531468251871452856923140435984577574698574803934567774824230985421074605062371141877954182153046474983581941267398767559165543946077062914571196477686542167660429831652624386837205668069376\n"
     ]
    }
   ],
   "source": [
    "x = 2 ** 1000\n",
    "print(x)"
   ]
  },
  {
   "cell_type": "code",
   "execution_count": 2,
   "metadata": {},
   "outputs": [],
   "source": [
    "#price = 100\n",
    "#amount = 0\n",
    "#average = price / amount\n",
    "#print(average)"
   ]
  },
  {
   "cell_type": "code",
   "execution_count": 3,
   "metadata": {},
   "outputs": [
    {
     "name": "stdout",
     "output_type": "stream",
     "text": [
      "335\n",
      "83.75\n"
     ]
    }
   ],
   "source": [
    "score = 0\n",
    "data = input(\"国語:\")\n",
    "score += int(data)\n",
    "\n",
    "data = input(\"数学:\")\n",
    "score += int(data)\n",
    "\n",
    "data = input(\"理科:\")\n",
    "score += int(data)\n",
    "\n",
    "data = input(\"社会:\")\n",
    "score += int(data)\n",
    "\n",
    "average = score / 4\n",
    "print(score)\n",
    "print(average)"
   ]
  }
 ],
 "metadata": {
  "kernelspec": {
   "display_name": "base",
   "language": "python",
   "name": "python3"
  },
  "language_info": {
   "codemirror_mode": {
    "name": "ipython",
    "version": 3
   },
   "file_extension": ".py",
   "mimetype": "text/x-python",
   "name": "python",
   "nbconvert_exporter": "python",
   "pygments_lexer": "ipython3",
   "version": "3.11.5"
  }
 },
 "nbformat": 4,
 "nbformat_minor": 2
}
