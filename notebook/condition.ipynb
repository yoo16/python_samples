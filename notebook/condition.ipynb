{
 "cells": [
  {
   "cell_type": "code",
   "execution_count": 2,
   "metadata": {},
   "outputs": [
    {
     "name": "stdout",
     "output_type": "stream",
     "text": [
      "お買い上げありがとうございました\n"
     ]
    }
   ],
   "source": [
    "price = 300\n",
    "money = 500\n",
    "message = \"\"\n",
    "\n",
    "if money > 0 and price > 0:\n",
    "    if money >= price:\n",
    "        message = \"お買い上げありがとうございました\"\n",
    "    else:\n",
    "        message = \"購入金額が足りません\"\n",
    "else:\n",
    "    message = \"入力が間違っています\"\n",
    "print(message)"
   ]
  },
  {
   "cell_type": "code",
   "execution_count": 1,
   "metadata": {},
   "outputs": [
    {
     "name": "stdout",
     "output_type": "stream",
     "text": [
      "優\n"
     ]
    }
   ],
   "source": [
    "score = 100\n",
    "if (score > 0):\n",
    "    if score >= 90:\n",
    "        print(\"優\")\n",
    "    elif score >= 70:\n",
    "        print(\"良\")\n",
    "    elif score >= 50:\n",
    "        print(\"可\")\n",
    "    else:\n",
    "        print(\"不可\")"
   ]
  }
 ],
 "metadata": {
  "kernelspec": {
   "display_name": "base",
   "language": "python",
   "name": "python3"
  },
  "language_info": {
   "codemirror_mode": {
    "name": "ipython",
    "version": 3
   },
   "file_extension": ".py",
   "mimetype": "text/x-python",
   "name": "python",
   "nbconvert_exporter": "python",
   "pygments_lexer": "ipython3",
   "version": "3.11.5"
  }
 },
 "nbformat": 4,
 "nbformat_minor": 2
}
